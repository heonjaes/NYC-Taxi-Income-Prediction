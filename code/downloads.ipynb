{
 "cells": [
  {
   "cell_type": "code",
   "execution_count": 3,
   "metadata": {},
   "outputs": [
    {
     "name": "stdout",
     "output_type": "stream",
     "text": [
      "https://d37ci6vzurychx.cloudfront.net/trip-data/green_tripdata_2016-01.parquet\n",
      "https://d37ci6vzurychx.cloudfront.net/trip-data/green_tripdata_2016-02.parquet\n",
      "https://d37ci6vzurychx.cloudfront.net/trip-data/green_tripdata_2016-03.parquet\n",
      "https://d37ci6vzurychx.cloudfront.net/trip-data/green_tripdata_2016-04.parquet\n",
      "https://d37ci6vzurychx.cloudfront.net/trip-data/green_tripdata_2016-05.parquet\n",
      "https://d37ci6vzurychx.cloudfront.net/trip-data/green_tripdata_2016-06.parquet\n"
     ]
    }
   ],
   "source": [
    "from os.path import getsize\n",
    "from urllib.request import urlretrieve\n",
    "# Downloading Training Data. Download 2016 files first. \n",
    "output_dir = \"../raw_data\"\n",
    "\n",
    "fname_template = \"green_tripdata_2016\"\n",
    "\n",
    "for m in range(1, 7):\n",
    "    month = str(m).zfill(2)\n",
    "    out = f'{fname_template}-{month}.parquet'\n",
    "    url = f\"https://d37ci6vzurychx.cloudfront.net/trip-data/{out}\"\n",
    "    print(url)\n",
    "    urlretrieve(url, f\"{output_dir}/{out}\")\n",
    "\n"
   ]
  },
  {
   "cell_type": "code",
   "execution_count": 4,
   "metadata": {},
   "outputs": [
    {
     "name": "stdout",
     "output_type": "stream",
     "text": [
      "https://d37ci6vzurychx.cloudfront.net/trip-data/green_tripdata_2015-07.parquet\n",
      "https://d37ci6vzurychx.cloudfront.net/trip-data/green_tripdata_2015-08.parquet\n",
      "https://d37ci6vzurychx.cloudfront.net/trip-data/green_tripdata_2015-09.parquet\n",
      "https://d37ci6vzurychx.cloudfront.net/trip-data/green_tripdata_2015-10.parquet\n",
      "https://d37ci6vzurychx.cloudfront.net/trip-data/green_tripdata_2015-11.parquet\n",
      "https://d37ci6vzurychx.cloudfront.net/trip-data/green_tripdata_2015-12.parquet\n"
     ]
    }
   ],
   "source": [
    "# Downloading Training data for 2015\n",
    "fname_template = \"green_tripdata_2015\"\n",
    "\n",
    "# change range(x, y) to be the months you want\n",
    "for m in range(7, 13):\n",
    "    month = str(m).zfill(2)\n",
    "    out = f'{fname_template}-{month}.parquet'\n",
    "    url = f\"https://d37ci6vzurychx.cloudfront.net/trip-data/{out}\"\n",
    "    print(url)\n",
    "    urlretrieve(url, f\"{output_dir}/{out}\")"
   ]
  },
  {
   "cell_type": "code",
   "execution_count": 6,
   "metadata": {},
   "outputs": [
    {
     "name": "stdout",
     "output_type": "stream",
     "text": [
      "https://d37ci6vzurychx.cloudfront.net/trip-data/green_tripdata_2017-01.parquet\n",
      "https://d37ci6vzurychx.cloudfront.net/trip-data/green_tripdata_2017-02.parquet\n",
      "https://d37ci6vzurychx.cloudfront.net/trip-data/green_tripdata_2017-03.parquet\n",
      "https://d37ci6vzurychx.cloudfront.net/trip-data/green_tripdata_2017-04.parquet\n",
      "https://d37ci6vzurychx.cloudfront.net/trip-data/green_tripdata_2017-05.parquet\n",
      "https://d37ci6vzurychx.cloudfront.net/trip-data/green_tripdata_2017-06.parquet\n"
     ]
    }
   ],
   "source": [
    "# Download Test Data for 2017\n",
    "fname_template = \"green_tripdata_2017\"\n",
    "\n",
    "for m in range(1, 7):\n",
    "    month = str(m).zfill(2)\n",
    "    out = f'{fname_template}-{month}.parquet'\n",
    "    url = f\"https://d37ci6vzurychx.cloudfront.net/trip-data/{out}\"\n",
    "    print(url)\n",
    "    urlretrieve(url, f\"{output_dir}/{out}\")\n",
    "\n"
   ]
  },
  {
   "cell_type": "code",
   "execution_count": 7,
   "metadata": {},
   "outputs": [
    {
     "name": "stdout",
     "output_type": "stream",
     "text": [
      "https://d37ci6vzurychx.cloudfront.net/trip-data/green_tripdata_2016-07.parquet\n",
      "https://d37ci6vzurychx.cloudfront.net/trip-data/green_tripdata_2016-08.parquet\n",
      "https://d37ci6vzurychx.cloudfront.net/trip-data/green_tripdata_2016-09.parquet\n",
      "https://d37ci6vzurychx.cloudfront.net/trip-data/green_tripdata_2016-10.parquet\n",
      "https://d37ci6vzurychx.cloudfront.net/trip-data/green_tripdata_2016-11.parquet\n",
      "https://d37ci6vzurychx.cloudfront.net/trip-data/green_tripdata_2016-12.parquet\n"
     ]
    }
   ],
   "source": [
    "# Downloading Test Data for 2016\n",
    "fname_template = \"green_tripdata_2016\"\n",
    "\n",
    "for m in range(7, 13):\n",
    "    month = str(m).zfill(2)\n",
    "    out = f'{fname_template}-{month}.parquet'\n",
    "    url = f\"https://d37ci6vzurychx.cloudfront.net/trip-data/{out}\"\n",
    "    print(url)\n",
    "    urlretrieve(url, f\"{output_dir}/{out}\")"
   ]
  },
  {
   "cell_type": "code",
   "execution_count": null,
   "metadata": {},
   "outputs": [],
   "source": []
  }
 ],
 "metadata": {
  "kernelspec": {
   "display_name": "Python 3 (Anaconda 3)",
   "language": "python",
   "name": "python3"
  },
  "language_info": {
   "codemirror_mode": {
    "name": "ipython",
    "version": 3
   },
   "file_extension": ".py",
   "mimetype": "text/x-python",
   "name": "python",
   "nbconvert_exporter": "python",
   "pygments_lexer": "ipython3",
   "version": "3.9.17"
  }
 },
 "nbformat": 4,
 "nbformat_minor": 4
}

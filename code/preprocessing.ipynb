{
 "cells": [
  {
   "cell_type": "code",
   "execution_count": 1,
   "metadata": {},
   "outputs": [],
   "source": [
    "import pandas as pd\n",
    "import numpy as np \n",
    "import os\n",
    "import datetime\n",
    "\n"
   ]
  },
  {
   "cell_type": "code",
   "execution_count": 2,
   "metadata": {},
   "outputs": [],
   "source": [
    "# read in appropriate yearly green taxi files\n",
    "greens = []\n",
    "for i in range(7,13):\n",
    "    num = str(i).zfill(2)\n",
    "    greens.append(pd.read_csv(f\"../raw_data/green_tripdata_2015-{num}.csv\"))\n",
    "    \n",
    "for i in range(1,7):\n",
    "    num = str(i).zfill(2)\n",
    "    greens.append(pd.read_csv(f\"../raw_data/green_tripdata_2016-{num}.csv\"))\n",
    "    \n",
    "green = pd.concat(greens).reset_index()\n"
   ]
  },
  {
   "cell_type": "code",
   "execution_count": 3,
   "metadata": {},
   "outputs": [],
   "source": [
    "# Date of each day \n",
    "green[\"DATE\"] = pd.to_datetime(green[\"lpep_pickup_datetime\"]).dt.to_period(\"D\").astype(str)\n"
   ]
  },
  {
   "cell_type": "code",
   "execution_count": 4,
   "metadata": {},
   "outputs": [],
   "source": [
    "# only vendor id 1 or 2 \n",
    "green = green.loc[(green[\"VendorID\"] == 1) | (green[\"VendorID\"] == 2)]"
   ]
  },
  {
   "cell_type": "code",
   "execution_count": 5,
   "metadata": {},
   "outputs": [],
   "source": [
    "# fares outside the flat $2.50 were removed\n",
    "green = green.loc[green[\"Fare_amount\"] >= 2.5]"
   ]
  },
  {
   "cell_type": "code",
   "execution_count": 6,
   "metadata": {
    "scrolled": false
   },
   "outputs": [],
   "source": [
    "\n",
    "# green[\"duration\"] = pd.to_datetime(green[\"Lpep_dropoff_datetime\"]) - pd.to_datetime(green[\"lpep_pickup_datetime\"])\n",
    "\n",
    "coords = [\"Pickup_longitude\", \"Pickup_latitude\"]\n",
    "\n"
   ]
  },
  {
   "cell_type": "code",
   "execution_count": 7,
   "metadata": {},
   "outputs": [],
   "source": [
    "# only pickup coordinates within new york city range\n",
    "green = green.loc[(-74 < green['Pickup_longitude'] ) & (green['Pickup_longitude'] < -73.7) &  (40.48 < green['Pickup_latitude']) & (green['Pickup_latitude'] < 41)]"
   ]
  },
  {
   "cell_type": "code",
   "execution_count": 8,
   "metadata": {},
   "outputs": [],
   "source": [
    "# only cash or cheque payments\n",
    "green = green.loc[(green[\"Payment_type\"] == 1) |(green[\"Payment_type\"] == 2)]"
   ]
  },
  {
   "cell_type": "code",
   "execution_count": 9,
   "metadata": {},
   "outputs": [],
   "source": [
    "# only trip distances greater than 0 and less than 200 miles \n",
    "green = green.loc[(green[\"Trip_distance\"] > 0) & (green[\"Trip_distance\"] < 200)]"
   ]
  },
  {
   "cell_type": "code",
   "execution_count": 10,
   "metadata": {},
   "outputs": [],
   "source": [
    "# tip excluded total amount paid calculated\n",
    "# only cheque payments had tip amounts recorded so only they were subtracted from total amount paid\n",
    "def tip_excluded(x):\n",
    "    if x[0] == 1:\n",
    "        return x[1] - x[2]\n",
    "    else:\n",
    "        return x[1]\n",
    "\n",
    "\n",
    "green[\"tip_excluded\"] = green[[\"Payment_type\", \"Total_amount\", \"Tip_amount\"]].apply(tip_excluded, axis = 1)"
   ]
  },
  {
   "cell_type": "code",
   "execution_count": 11,
   "metadata": {},
   "outputs": [],
   "source": [
    "# only tip excluded amounts greater than 0 and less than 100\n",
    "green = green.loc[(green[\"tip_excluded\"] > 0) & (green[\"tip_excluded\"] < 100)]"
   ]
  },
  {
   "cell_type": "code",
   "execution_count": 12,
   "metadata": {},
   "outputs": [],
   "source": [
    "# pay per mile (excluding tip) calculated for outlier removal\n",
    "green[\"pay_per_mile\"] = green[\"tip_excluded\"]/green[\"Trip_distance\"]"
   ]
  },
  {
   "cell_type": "code",
   "execution_count": 13,
   "metadata": {},
   "outputs": [],
   "source": [
    "green = green.loc[green[\"pay_per_mile\"] < 30]"
   ]
  },
  {
   "cell_type": "code",
   "execution_count": 14,
   "metadata": {},
   "outputs": [],
   "source": [
    "green.to_pickle(\"../preprocessed_data/green.pkl\")"
   ]
  },
  {
   "cell_type": "code",
   "execution_count": 15,
   "metadata": {},
   "outputs": [],
   "source": [
    "\n",
    "clis = []\n",
    "for name in [\"2680632.csv\", \"2680634.csv\", \"2680635.csv\", \"2680639.csv\"]:\n",
    "    clis.append(pd.read_csv(f\"../raw_data/{name}\"))\n",
    "climate_data = pd.concat(clis).reset_index()"
   ]
  },
  {
   "cell_type": "code",
   "execution_count": 16,
   "metadata": {},
   "outputs": [],
   "source": [
    "#Just JFK airport\n",
    "climate_data = climate_data.loc[climate_data[\"STATION\"] == \"USW00094789\"][[\"STATION\", \"NAME\", \"DATE\", \"PRCP\", \"SNOW\", \"TAVG\"]].dropna().reset_index()\n"
   ]
  },
  {
   "cell_type": "code",
   "execution_count": 17,
   "metadata": {},
   "outputs": [],
   "source": [
    "climate_data[[\"STATION\", \"NAME\", \"DATE\", \"SNOW\", \"PRCP\", \"TAVG\"]].to_pickle(\"../preprocessed_data/climate.pkl\")\n",
    "\n"
   ]
  }
 ],
 "metadata": {
  "kernelspec": {
   "display_name": "Python 3 (Anaconda 3)",
   "language": "python",
   "name": "python3"
  },
  "language_info": {
   "codemirror_mode": {
    "name": "ipython",
    "version": 3
   },
   "file_extension": ".py",
   "mimetype": "text/x-python",
   "name": "python",
   "nbconvert_exporter": "python",
   "pygments_lexer": "ipython3",
   "version": "3.8.2"
  }
 },
 "nbformat": 4,
 "nbformat_minor": 5
}
